{
 "cells": [
  {
   "cell_type": "code",
   "execution_count": 1,
   "id": "37e90d9d-cebc-4744-b58b-f94cca26a272",
   "metadata": {},
   "outputs": [
    {
     "name": "stdout",
     "output_type": "stream",
     "text": [
      "Requirement already satisfied: mysql-connector-python in ./lib/python3.11/site-packages (8.1.0)\n",
      "Requirement already satisfied: protobuf<=4.21.12,>=4.21.1 in ./lib/python3.11/site-packages (from mysql-connector-python) (4.21.12)\n",
      "\n",
      "\u001b[1m[\u001b[0m\u001b[34;49mnotice\u001b[0m\u001b[1;39;49m]\u001b[0m\u001b[39;49m A new release of pip is available: \u001b[0m\u001b[31;49m23.2.1\u001b[0m\u001b[39;49m -> \u001b[0m\u001b[32;49m23.3\u001b[0m\n",
      "\u001b[1m[\u001b[0m\u001b[34;49mnotice\u001b[0m\u001b[1;39;49m]\u001b[0m\u001b[39;49m To update, run: \u001b[0m\u001b[32;49mpip install --upgrade pip\u001b[0m\n"
     ]
    }
   ],
   "source": [
    "!pip install mysql-connector-python"
   ]
  },
  {
   "cell_type": "code",
   "execution_count": 2,
   "id": "da64a4f2-9b70-4faa-ad1a-7d25b157ffd6",
   "metadata": {},
   "outputs": [],
   "source": [
    "import mysql.connector as connector"
   ]
  },
  {
   "cell_type": "code",
   "execution_count": 3,
   "id": "30816d80-384e-4338-9771-a78f657411ab",
   "metadata": {},
   "outputs": [],
   "source": [
    "connection = connector.connect(user = \"db_capstone_project\", password = \"12345678\", database=\"little_lemon_db\")"
   ]
  },
  {
   "cell_type": "code",
   "execution_count": 4,
   "id": "d2d530b5-c98b-428f-af63-b8b0b1b11ddb",
   "metadata": {},
   "outputs": [],
   "source": [
    "cursor = connection.cursor()"
   ]
  },
  {
   "cell_type": "code",
   "execution_count": 6,
   "id": "9a2b1e42-1968-4b50-a850-8be6ac27681b",
   "metadata": {},
   "outputs": [
    {
     "name": "stdout",
     "output_type": "stream",
     "text": [
      "('Bookings',)\n",
      "('Customers',)\n",
      "('Deliveries',)\n",
      "('Employees',)\n",
      "('MenuItems',)\n",
      "('MoreThanTwoOrdered',)\n",
      "('OrderedMoreThan150',)\n",
      "('Orders',)\n",
      "('OrdersView',)\n"
     ]
    }
   ],
   "source": [
    "show_tables_query = \"SHOW TABLES\" \n",
    "cursor.execute(show_tables_query)\n",
    "\n",
    "results = cursor.fetchall()\n",
    "\n",
    "for row in results:\n",
    "    print(row)"
   ]
  },
  {
   "cell_type": "code",
   "execution_count": 8,
   "id": "9ff314bd-22cc-480b-b5d1-eb07978910a3",
   "metadata": {},
   "outputs": [],
   "source": [
    "get_customers_for_promo_query = \"\"\"\n",
    "    select CONCAT(FirstName, ' ', LastName) as FullName, PhoneNumber, Email from\n",
    "    Customers inner join Orders using(CustomerID)\n",
    "    where TotalCost >= 60\n",
    "\"\"\"\n",
    "cursor.execute(get_customers_for_promo_query)\n",
    "results = cursor.fetchall()\n",
    "\n",
    "for row in results:\n",
    "    print(row)"
   ]
  }
 ],
 "metadata": {
  "kernelspec": {
   "display_name": "Python 3 (ipykernel)",
   "language": "python",
   "name": "python3"
  },
  "language_info": {
   "codemirror_mode": {
    "name": "ipython",
    "version": 3
   },
   "file_extension": ".py",
   "mimetype": "text/x-python",
   "name": "python",
   "nbconvert_exporter": "python",
   "pygments_lexer": "ipython3",
   "version": "3.11.5"
  }
 },
 "nbformat": 4,
 "nbformat_minor": 5
}
